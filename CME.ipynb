{
 "cells": [
  {
   "cell_type": "markdown",
   "metadata": {},
   "source": [
    "# Child Mortality Estimates"
   ]
  },
  {
   "cell_type": "code",
   "execution_count": 1,
   "metadata": {
    "collapsed": false
   },
   "outputs": [
    {
     "name": "stderr",
     "output_type": "stream",
     "text": [
      "/usr/local/lib/python3.5/site-packages/matplotlib/__init__.py:872: UserWarning: axes.color_cycle is deprecated and replaced with axes.prop_cycle; please use the latter.\n",
      "  warnings.warn(self.msg_depr % (key, alt_key))\n"
     ]
    }
   ],
   "source": [
    "import pandas as pd\n",
    "import numpy as np"
   ]
  },
  {
   "cell_type": "code",
   "execution_count": 29,
   "metadata": {
    "collapsed": true
   },
   "outputs": [],
   "source": [
    "import re\n",
    "\n",
    "def to_concept_id(s):\n",
    "    '''convert a string to lowercase alphanumeric + underscore id for concepts'''\n",
    "    s1 = re.sub(r'[/ -\\.\\*]+', '_', s).lower()\n",
    "    \n",
    "    if s1[-1] == '_':\n",
    "        s1 = s1[:-1]\n",
    "    \n",
    "    return s1.strip()"
   ]
  },
  {
   "cell_type": "code",
   "execution_count": 5,
   "metadata": {
    "collapsed": false
   },
   "outputs": [],
   "source": [
    "data = pd.read_excel('./source/RatesDeaths_AllIndicators.xlsx', skiprows=6)"
   ]
  },
  {
   "cell_type": "code",
   "execution_count": 6,
   "metadata": {
    "collapsed": false
   },
   "outputs": [
    {
     "data": {
      "text/html": [
       "<div>\n",
       "<table border=\"1\" class=\"dataframe\">\n",
       "  <thead>\n",
       "    <tr style=\"text-align: right;\">\n",
       "      <th></th>\n",
       "      <th>ISO Code</th>\n",
       "      <th>CountryName</th>\n",
       "      <th>Uncertainty bounds*</th>\n",
       "      <th>U5MR.1950</th>\n",
       "      <th>U5MR.1951</th>\n",
       "      <th>U5MR.1952</th>\n",
       "      <th>U5MR.1953</th>\n",
       "      <th>U5MR.1954</th>\n",
       "      <th>U5MR.1955</th>\n",
       "      <th>U5MR.1956</th>\n",
       "      <th>...</th>\n",
       "      <th>Neonatal.Deaths.2006</th>\n",
       "      <th>Neonatal.Deaths.2007</th>\n",
       "      <th>Neonatal.Deaths.2008</th>\n",
       "      <th>Neonatal.Deaths.2009</th>\n",
       "      <th>Neonatal.Deaths.2010</th>\n",
       "      <th>Neonatal.Deaths.2011</th>\n",
       "      <th>Neonatal.Deaths.2012</th>\n",
       "      <th>Neonatal.Deaths.2013</th>\n",
       "      <th>Neonatal.Deaths.2014</th>\n",
       "      <th>Neonatal.Deaths.2015</th>\n",
       "    </tr>\n",
       "  </thead>\n",
       "  <tbody>\n",
       "    <tr>\n",
       "      <th>0</th>\n",
       "      <td>AFG</td>\n",
       "      <td>Afghanistan</td>\n",
       "      <td>Lower</td>\n",
       "      <td>NaN</td>\n",
       "      <td>NaN</td>\n",
       "      <td>NaN</td>\n",
       "      <td>NaN</td>\n",
       "      <td>NaN</td>\n",
       "      <td>NaN</td>\n",
       "      <td>NaN</td>\n",
       "      <td>...</td>\n",
       "      <td>23880</td>\n",
       "      <td>23638</td>\n",
       "      <td>23216</td>\n",
       "      <td>22689</td>\n",
       "      <td>22179</td>\n",
       "      <td>21266</td>\n",
       "      <td>20273</td>\n",
       "      <td>19440</td>\n",
       "      <td>18629</td>\n",
       "      <td>17573</td>\n",
       "    </tr>\n",
       "    <tr>\n",
       "      <th>1</th>\n",
       "      <td>AFG</td>\n",
       "      <td>Afghanistan</td>\n",
       "      <td>Median</td>\n",
       "      <td>NaN</td>\n",
       "      <td>NaN</td>\n",
       "      <td>NaN</td>\n",
       "      <td>NaN</td>\n",
       "      <td>NaN</td>\n",
       "      <td>NaN</td>\n",
       "      <td>NaN</td>\n",
       "      <td>...</td>\n",
       "      <td>44007</td>\n",
       "      <td>43856</td>\n",
       "      <td>43469</td>\n",
       "      <td>42791</td>\n",
       "      <td>42311</td>\n",
       "      <td>41052</td>\n",
       "      <td>39588</td>\n",
       "      <td>38263</td>\n",
       "      <td>37038</td>\n",
       "      <td>36242</td>\n",
       "    </tr>\n",
       "    <tr>\n",
       "      <th>2</th>\n",
       "      <td>AFG</td>\n",
       "      <td>Afghanistan</td>\n",
       "      <td>Upper</td>\n",
       "      <td>NaN</td>\n",
       "      <td>NaN</td>\n",
       "      <td>NaN</td>\n",
       "      <td>NaN</td>\n",
       "      <td>NaN</td>\n",
       "      <td>NaN</td>\n",
       "      <td>NaN</td>\n",
       "      <td>...</td>\n",
       "      <td>65784</td>\n",
       "      <td>65663</td>\n",
       "      <td>65435</td>\n",
       "      <td>64608</td>\n",
       "      <td>63632</td>\n",
       "      <td>62498</td>\n",
       "      <td>61129</td>\n",
       "      <td>60190</td>\n",
       "      <td>58975</td>\n",
       "      <td>58900</td>\n",
       "    </tr>\n",
       "    <tr>\n",
       "      <th>3</th>\n",
       "      <td>AGO</td>\n",
       "      <td>Angola</td>\n",
       "      <td>Lower</td>\n",
       "      <td>NaN</td>\n",
       "      <td>NaN</td>\n",
       "      <td>NaN</td>\n",
       "      <td>NaN</td>\n",
       "      <td>NaN</td>\n",
       "      <td>NaN</td>\n",
       "      <td>NaN</td>\n",
       "      <td>...</td>\n",
       "      <td>25458</td>\n",
       "      <td>25686</td>\n",
       "      <td>25732</td>\n",
       "      <td>25618</td>\n",
       "      <td>25578</td>\n",
       "      <td>25238</td>\n",
       "      <td>24632</td>\n",
       "      <td>23930</td>\n",
       "      <td>23544</td>\n",
       "      <td>23394</td>\n",
       "    </tr>\n",
       "    <tr>\n",
       "      <th>4</th>\n",
       "      <td>AGO</td>\n",
       "      <td>Angola</td>\n",
       "      <td>Median</td>\n",
       "      <td>NaN</td>\n",
       "      <td>NaN</td>\n",
       "      <td>NaN</td>\n",
       "      <td>NaN</td>\n",
       "      <td>NaN</td>\n",
       "      <td>NaN</td>\n",
       "      <td>NaN</td>\n",
       "      <td>...</td>\n",
       "      <td>49499</td>\n",
       "      <td>50458</td>\n",
       "      <td>50990</td>\n",
       "      <td>51640</td>\n",
       "      <td>52107</td>\n",
       "      <td>52434</td>\n",
       "      <td>52604</td>\n",
       "      <td>52860</td>\n",
       "      <td>53041</td>\n",
       "      <td>53164</td>\n",
       "    </tr>\n",
       "  </tbody>\n",
       "</table>\n",
       "<p>5 rows × 399 columns</p>\n",
       "</div>"
      ],
      "text/plain": [
       "  ISO Code  CountryName Uncertainty bounds*  U5MR.1950  U5MR.1951  U5MR.1952  \\\n",
       "0      AFG  Afghanistan               Lower        NaN        NaN        NaN   \n",
       "1      AFG  Afghanistan              Median        NaN        NaN        NaN   \n",
       "2      AFG  Afghanistan               Upper        NaN        NaN        NaN   \n",
       "3      AGO       Angola               Lower        NaN        NaN        NaN   \n",
       "4      AGO       Angola              Median        NaN        NaN        NaN   \n",
       "\n",
       "   U5MR.1953  U5MR.1954  U5MR.1955  U5MR.1956          ...           \\\n",
       "0        NaN        NaN        NaN        NaN          ...            \n",
       "1        NaN        NaN        NaN        NaN          ...            \n",
       "2        NaN        NaN        NaN        NaN          ...            \n",
       "3        NaN        NaN        NaN        NaN          ...            \n",
       "4        NaN        NaN        NaN        NaN          ...            \n",
       "\n",
       "   Neonatal.Deaths.2006  Neonatal.Deaths.2007  Neonatal.Deaths.2008  \\\n",
       "0                 23880                 23638                 23216   \n",
       "1                 44007                 43856                 43469   \n",
       "2                 65784                 65663                 65435   \n",
       "3                 25458                 25686                 25732   \n",
       "4                 49499                 50458                 50990   \n",
       "\n",
       "   Neonatal.Deaths.2009  Neonatal.Deaths.2010  Neonatal.Deaths.2011  \\\n",
       "0                 22689                 22179                 21266   \n",
       "1                 42791                 42311                 41052   \n",
       "2                 64608                 63632                 62498   \n",
       "3                 25618                 25578                 25238   \n",
       "4                 51640                 52107                 52434   \n",
       "\n",
       "   Neonatal.Deaths.2012  Neonatal.Deaths.2013  Neonatal.Deaths.2014  \\\n",
       "0                 20273                 19440                 18629   \n",
       "1                 39588                 38263                 37038   \n",
       "2                 61129                 60190                 58975   \n",
       "3                 24632                 23930                 23544   \n",
       "4                 52604                 52860                 53041   \n",
       "\n",
       "   Neonatal.Deaths.2015  \n",
       "0                 17573  \n",
       "1                 36242  \n",
       "2                 58900  \n",
       "3                 23394  \n",
       "4                 53164  \n",
       "\n",
       "[5 rows x 399 columns]"
      ]
     },
     "execution_count": 6,
     "metadata": {},
     "output_type": "execute_result"
    }
   ],
   "source": [
    "data.head()"
   ]
  },
  {
   "cell_type": "code",
   "execution_count": 8,
   "metadata": {
    "collapsed": false
   },
   "outputs": [],
   "source": [
    "c = data.columns[3:]"
   ]
  },
  {
   "cell_type": "code",
   "execution_count": 11,
   "metadata": {
    "collapsed": true
   },
   "outputs": [],
   "source": [
    "res = []\n",
    "\n",
    "for i in c:\n",
    "    s = i[:-5]\n",
    "    if not s in res:\n",
    "        res.append(s)"
   ]
  },
  {
   "cell_type": "code",
   "execution_count": 12,
   "metadata": {
    "collapsed": false
   },
   "outputs": [
    {
     "data": {
      "text/plain": [
       "['U5MR', 'IMR', 'NMR', 'Under.five.Deaths', 'Infant.Deaths', 'Neonatal.Deaths']"
      ]
     },
     "execution_count": 12,
     "metadata": {},
     "output_type": "execute_result"
    }
   ],
   "source": [
    "res"
   ]
  },
  {
   "cell_type": "code",
   "execution_count": 30,
   "metadata": {
    "collapsed": false
   },
   "outputs": [],
   "source": [
    "concepts = []\n",
    "concepts_name = []\n",
    "\n",
    "for i in res:\n",
    "    ns = [i + '.Lower', i+'.Median', i+'.Upper']\n",
    "    concepts.append(to_concept_id(ns[0]))\n",
    "    concepts.append(to_concept_id(ns[1]))\n",
    "    concepts.append(to_concept_id(ns[2]))\n",
    "    \n",
    "    concepts_name.append(ns[0])\n",
    "    concepts_name.append(ns[1])\n",
    "    concepts_name.append(ns[2])"
   ]
  },
  {
   "cell_type": "code",
   "execution_count": 31,
   "metadata": {
    "collapsed": false
   },
   "outputs": [
    {
     "data": {
      "text/plain": [
       "['u5mr_lower',\n",
       " 'u5mr_median',\n",
       " 'u5mr_upper',\n",
       " 'imr_lower',\n",
       " 'imr_median',\n",
       " 'imr_upper',\n",
       " 'nmr_lower',\n",
       " 'nmr_median',\n",
       " 'nmr_upper',\n",
       " 'under_five_deaths_lower',\n",
       " 'under_five_deaths_median',\n",
       " 'under_five_deaths_upper',\n",
       " 'infant_deaths_lower',\n",
       " 'infant_deaths_median',\n",
       " 'infant_deaths_upper',\n",
       " 'neonatal_deaths_lower',\n",
       " 'neonatal_deaths_median',\n",
       " 'neonatal_deaths_upper']"
      ]
     },
     "execution_count": 31,
     "metadata": {},
     "output_type": "execute_result"
    }
   ],
   "source": [
    "concepts"
   ]
  },
  {
   "cell_type": "code",
   "execution_count": 18,
   "metadata": {
    "collapsed": true
   },
   "outputs": [],
   "source": [
    "concepts_continuous = pd.DataFrame([], columns=['concept', 'name', 'type'])"
   ]
  },
  {
   "cell_type": "code",
   "execution_count": 19,
   "metadata": {
    "collapsed": true
   },
   "outputs": [],
   "source": [
    "concepts_continuous['name'] = concepts_name"
   ]
  },
  {
   "cell_type": "code",
   "execution_count": 20,
   "metadata": {
    "collapsed": true
   },
   "outputs": [],
   "source": [
    "concepts_continuous['concept'] = concepts"
   ]
  },
  {
   "cell_type": "code",
   "execution_count": 21,
   "metadata": {
    "collapsed": true
   },
   "outputs": [],
   "source": [
    "concepts_continuous['type'] = 'measure'"
   ]
  },
  {
   "cell_type": "code",
   "execution_count": 22,
   "metadata": {
    "collapsed": false
   },
   "outputs": [
    {
     "data": {
      "text/html": [
       "<div>\n",
       "<table border=\"1\" class=\"dataframe\">\n",
       "  <thead>\n",
       "    <tr style=\"text-align: right;\">\n",
       "      <th></th>\n",
       "      <th>concept</th>\n",
       "      <th>name</th>\n",
       "      <th>type</th>\n",
       "    </tr>\n",
       "  </thead>\n",
       "  <tbody>\n",
       "    <tr>\n",
       "      <th>0</th>\n",
       "      <td>u5mr_lower</td>\n",
       "      <td>U5MR.Lower</td>\n",
       "      <td>measure</td>\n",
       "    </tr>\n",
       "    <tr>\n",
       "      <th>1</th>\n",
       "      <td>u5mr_median</td>\n",
       "      <td>U5MR.Median</td>\n",
       "      <td>measure</td>\n",
       "    </tr>\n",
       "    <tr>\n",
       "      <th>2</th>\n",
       "      <td>u5mr_upper</td>\n",
       "      <td>U5MR.Upper</td>\n",
       "      <td>measure</td>\n",
       "    </tr>\n",
       "    <tr>\n",
       "      <th>3</th>\n",
       "      <td>imr_lower</td>\n",
       "      <td>IMR.Lower</td>\n",
       "      <td>measure</td>\n",
       "    </tr>\n",
       "    <tr>\n",
       "      <th>4</th>\n",
       "      <td>imr_median</td>\n",
       "      <td>IMR.Median</td>\n",
       "      <td>measure</td>\n",
       "    </tr>\n",
       "    <tr>\n",
       "      <th>5</th>\n",
       "      <td>imr_upper</td>\n",
       "      <td>IMR.Upper</td>\n",
       "      <td>measure</td>\n",
       "    </tr>\n",
       "    <tr>\n",
       "      <th>6</th>\n",
       "      <td>nmr_lower</td>\n",
       "      <td>NMR.Lower</td>\n",
       "      <td>measure</td>\n",
       "    </tr>\n",
       "    <tr>\n",
       "      <th>7</th>\n",
       "      <td>nmr_median</td>\n",
       "      <td>NMR.Median</td>\n",
       "      <td>measure</td>\n",
       "    </tr>\n",
       "    <tr>\n",
       "      <th>8</th>\n",
       "      <td>nmr_upper</td>\n",
       "      <td>NMR.Upper</td>\n",
       "      <td>measure</td>\n",
       "    </tr>\n",
       "    <tr>\n",
       "      <th>9</th>\n",
       "      <td>under_five_deaths_lower</td>\n",
       "      <td>Under.five.Deaths.Lower</td>\n",
       "      <td>measure</td>\n",
       "    </tr>\n",
       "    <tr>\n",
       "      <th>10</th>\n",
       "      <td>under_five_deaths_median</td>\n",
       "      <td>Under.five.Deaths.Median</td>\n",
       "      <td>measure</td>\n",
       "    </tr>\n",
       "    <tr>\n",
       "      <th>11</th>\n",
       "      <td>under_five_deaths_upper</td>\n",
       "      <td>Under.five.Deaths.Upper</td>\n",
       "      <td>measure</td>\n",
       "    </tr>\n",
       "    <tr>\n",
       "      <th>12</th>\n",
       "      <td>infant_deaths_lower</td>\n",
       "      <td>Infant.Deaths.Lower</td>\n",
       "      <td>measure</td>\n",
       "    </tr>\n",
       "    <tr>\n",
       "      <th>13</th>\n",
       "      <td>infant_deaths_median</td>\n",
       "      <td>Infant.Deaths.Median</td>\n",
       "      <td>measure</td>\n",
       "    </tr>\n",
       "    <tr>\n",
       "      <th>14</th>\n",
       "      <td>infant_deaths_upper</td>\n",
       "      <td>Infant.Deaths.Upper</td>\n",
       "      <td>measure</td>\n",
       "    </tr>\n",
       "    <tr>\n",
       "      <th>15</th>\n",
       "      <td>neonatal_deaths_lower</td>\n",
       "      <td>Neonatal.Deaths.Lower</td>\n",
       "      <td>measure</td>\n",
       "    </tr>\n",
       "    <tr>\n",
       "      <th>16</th>\n",
       "      <td>neonatal_deaths_median</td>\n",
       "      <td>Neonatal.Deaths.Median</td>\n",
       "      <td>measure</td>\n",
       "    </tr>\n",
       "    <tr>\n",
       "      <th>17</th>\n",
       "      <td>neonatal_deaths_upper</td>\n",
       "      <td>Neonatal.Deaths.Upper</td>\n",
       "      <td>measure</td>\n",
       "    </tr>\n",
       "  </tbody>\n",
       "</table>\n",
       "</div>"
      ],
      "text/plain": [
       "                     concept                      name     type\n",
       "0                 u5mr_lower                U5MR.Lower  measure\n",
       "1                u5mr_median               U5MR.Median  measure\n",
       "2                 u5mr_upper                U5MR.Upper  measure\n",
       "3                  imr_lower                 IMR.Lower  measure\n",
       "4                 imr_median                IMR.Median  measure\n",
       "5                  imr_upper                 IMR.Upper  measure\n",
       "6                  nmr_lower                 NMR.Lower  measure\n",
       "7                 nmr_median                NMR.Median  measure\n",
       "8                  nmr_upper                 NMR.Upper  measure\n",
       "9    under_five_deaths_lower   Under.five.Deaths.Lower  measure\n",
       "10  under_five_deaths_median  Under.five.Deaths.Median  measure\n",
       "11   under_five_deaths_upper   Under.five.Deaths.Upper  measure\n",
       "12       infant_deaths_lower       Infant.Deaths.Lower  measure\n",
       "13      infant_deaths_median      Infant.Deaths.Median  measure\n",
       "14       infant_deaths_upper       Infant.Deaths.Upper  measure\n",
       "15     neonatal_deaths_lower     Neonatal.Deaths.Lower  measure\n",
       "16    neonatal_deaths_median    Neonatal.Deaths.Median  measure\n",
       "17     neonatal_deaths_upper     Neonatal.Deaths.Upper  measure"
      ]
     },
     "execution_count": 22,
     "metadata": {},
     "output_type": "execute_result"
    }
   ],
   "source": [
    "concepts_continuous"
   ]
  },
  {
   "cell_type": "code",
   "execution_count": 46,
   "metadata": {
    "collapsed": true
   },
   "outputs": [],
   "source": [
    "!mkdir output/"
   ]
  },
  {
   "cell_type": "code",
   "execution_count": 24,
   "metadata": {
    "collapsed": true
   },
   "outputs": [],
   "source": [
    "concepts_continuous.to_csv('output/ddf--concepts--continuous.csv')"
   ]
  },
  {
   "cell_type": "code",
   "execution_count": null,
   "metadata": {
    "collapsed": true
   },
   "outputs": [],
   "source": []
  },
  {
   "cell_type": "code",
   "execution_count": 27,
   "metadata": {
    "collapsed": true
   },
   "outputs": [],
   "source": [
    "concept_dis = data.columns[:3]"
   ]
  },
  {
   "cell_type": "code",
   "execution_count": 28,
   "metadata": {
    "collapsed": false
   },
   "outputs": [
    {
     "data": {
      "text/plain": [
       "Index(['ISO Code', 'CountryName', 'Uncertainty bounds*'], dtype='object')"
      ]
     },
     "execution_count": 28,
     "metadata": {},
     "output_type": "execute_result"
    }
   ],
   "source": [
    "concept_dis"
   ]
  },
  {
   "cell_type": "code",
   "execution_count": 32,
   "metadata": {
    "collapsed": true
   },
   "outputs": [],
   "source": [
    "concept_dis_df = pd.DataFrame([], columns=['concept', 'name', 'type'])"
   ]
  },
  {
   "cell_type": "code",
   "execution_count": 34,
   "metadata": {
    "collapsed": false
   },
   "outputs": [],
   "source": [
    "concept_dis_df['name'] = concept_dis"
   ]
  },
  {
   "cell_type": "code",
   "execution_count": 35,
   "metadata": {
    "collapsed": true
   },
   "outputs": [],
   "source": [
    "concept_dis_df['concept'] = concept_dis_df['name'].apply(to_concept_id)"
   ]
  },
  {
   "cell_type": "code",
   "execution_count": 38,
   "metadata": {
    "collapsed": false
   },
   "outputs": [],
   "source": [
    "concept_dis_df['type'] = \"string\""
   ]
  },
  {
   "cell_type": "code",
   "execution_count": 41,
   "metadata": {
    "collapsed": false
   },
   "outputs": [],
   "source": [
    "concept_dis_df = concept_dis_df.append(pd.DataFrame([['country', 'Country', 'entity_domain']], index=[0], columns=concept_dis_df.columns))"
   ]
  },
  {
   "cell_type": "code",
   "execution_count": 43,
   "metadata": {
    "collapsed": true
   },
   "outputs": [],
   "source": [
    "concept_dis_df = concept_dis_df.append(pd.DataFrame([['year', 'Year', 'time']], index=[0], columns=concept_dis_df.columns))"
   ]
  },
  {
   "cell_type": "code",
   "execution_count": 44,
   "metadata": {
    "collapsed": false
   },
   "outputs": [
    {
     "data": {
      "text/html": [
       "<div>\n",
       "<table border=\"1\" class=\"dataframe\">\n",
       "  <thead>\n",
       "    <tr style=\"text-align: right;\">\n",
       "      <th></th>\n",
       "      <th>concept</th>\n",
       "      <th>name</th>\n",
       "      <th>type</th>\n",
       "    </tr>\n",
       "  </thead>\n",
       "  <tbody>\n",
       "    <tr>\n",
       "      <th>0</th>\n",
       "      <td>iso_code</td>\n",
       "      <td>ISO Code</td>\n",
       "      <td>string</td>\n",
       "    </tr>\n",
       "    <tr>\n",
       "      <th>1</th>\n",
       "      <td>countryname</td>\n",
       "      <td>CountryName</td>\n",
       "      <td>string</td>\n",
       "    </tr>\n",
       "    <tr>\n",
       "      <th>2</th>\n",
       "      <td>uncertainty_bounds</td>\n",
       "      <td>Uncertainty bounds*</td>\n",
       "      <td>string</td>\n",
       "    </tr>\n",
       "    <tr>\n",
       "      <th>0</th>\n",
       "      <td>country</td>\n",
       "      <td>Country</td>\n",
       "      <td>entity_domain</td>\n",
       "    </tr>\n",
       "    <tr>\n",
       "      <th>0</th>\n",
       "      <td>year</td>\n",
       "      <td>Year</td>\n",
       "      <td>time</td>\n",
       "    </tr>\n",
       "  </tbody>\n",
       "</table>\n",
       "</div>"
      ],
      "text/plain": [
       "              concept                 name           type\n",
       "0            iso_code             ISO Code         string\n",
       "1         countryname          CountryName         string\n",
       "2  uncertainty_bounds  Uncertainty bounds*         string\n",
       "0             country              Country  entity_domain\n",
       "0                year                 Year           time"
      ]
     },
     "execution_count": 44,
     "metadata": {},
     "output_type": "execute_result"
    }
   ],
   "source": [
    "concept_dis_df"
   ]
  },
  {
   "cell_type": "code",
   "execution_count": 45,
   "metadata": {
    "collapsed": true
   },
   "outputs": [],
   "source": [
    "concept_dis_df.to_csv('output/ddf--concepts--discrete.csv')"
   ]
  },
  {
   "cell_type": "code",
   "execution_count": null,
   "metadata": {
    "collapsed": true
   },
   "outputs": [],
   "source": []
  }
 ],
 "metadata": {
  "kernelspec": {
   "display_name": "Python 3",
   "language": "python",
   "name": "python3"
  },
  "language_info": {
   "codemirror_mode": {
    "name": "ipython",
    "version": 3
   },
   "file_extension": ".py",
   "mimetype": "text/x-python",
   "name": "python",
   "nbconvert_exporter": "python",
   "pygments_lexer": "ipython3",
   "version": "3.5.1"
  }
 },
 "nbformat": 4,
 "nbformat_minor": 0
}
